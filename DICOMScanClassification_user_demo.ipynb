{
  "nbformat": 4,
  "nbformat_minor": 0,
  "metadata": {
    "colab": {
      "provenance": [],
      "toc_visible": true,
      "authorship_tag": "ABX9TyMJ40aUNYchwGwp+4WmvIbv",
      "include_colab_link": true
    },
    "kernelspec": {
      "name": "python3",
      "display_name": "Python 3"
    },
    "language_info": {
      "name": "python"
    }
  },
  "cells": [
    {
      "cell_type": "markdown",
      "metadata": {
        "id": "view-in-github",
        "colab_type": "text"
      },
      "source": [
        "<a href=\"https://colab.research.google.com/github/deepakri201/DICOMScanClassification_pw41/blob/main/DICOMScanClassification_user_demo.ipynb\" target=\"_parent\"><img src=\"https://colab.research.google.com/assets/colab-badge.svg\" alt=\"Open In Colab\"/></a>"
      ]
    },
    {
      "cell_type": "markdown",
      "source": [
        "**DICOM Scan Classification**\n",
        "\n",
        "Project Week 41\n",
        "\n",
        "https://projectweek.na-mic.org/PW41_2024_MIT/Projects/AutomaticClassificationOfMrScanSequenceType/\n",
        "\n",
        "---\n",
        "\n",
        "This notebook allows the user to use pre-trained models for DICOM scan classification. The models were developed for MIDL 2024, see the arxiv submission here: https://arxiv.org/abs/2404.10892. See the original github repository for MIDL 2024 here: https://github.com/deepakri201/DICOMScanClassification.\n",
        "\n",
        "---\n",
        "\n",
        "Deepa Krishnaswamy\n",
        "\n",
        "Brigham and Women's Hospital\n",
        "\n",
        "June 2024\n",
        "\n",
        "---"
      ],
      "metadata": {
        "id": "WU-3NXF5A4RX"
      }
    },
    {
      "cell_type": "code",
      "execution_count": null,
      "metadata": {
        "id": "dUT8D7WxA2Gu"
      },
      "outputs": [],
      "source": [
        "# Download the pre-trained models from the github release attachments\n",
        "\n"
      ]
    },
    {
      "cell_type": "code",
      "source": [],
      "metadata": {
        "id": "KEh0TwHNB7N_"
      },
      "execution_count": null,
      "outputs": []
    }
  ]
}